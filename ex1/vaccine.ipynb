{
 "cells": [
  {
   "cell_type": "code",
   "execution_count": 1,
   "outputs": [
    {
     "name": "stdout",
     "output_type": "stream",
     "text": [
      "Requirement already satisfied: datasets in /Users/zhussain/opt/anaconda3/envs/LLM4JDM/lib/python3.8/site-packages (2.14.3)\r\n",
      "Requirement already satisfied: transformers in /Users/zhussain/opt/anaconda3/envs/LLM4JDM/lib/python3.8/site-packages (4.31.0)\r\n",
      "Requirement already satisfied: evaluate in /Users/zhussain/opt/anaconda3/envs/LLM4JDM/lib/python3.8/site-packages (0.4.0)\r\n",
      "Requirement already satisfied: numpy>=1.17 in /Users/zhussain/opt/anaconda3/envs/LLM4JDM/lib/python3.8/site-packages (from datasets) (1.22.3)\r\n",
      "Requirement already satisfied: pyarrow>=8.0.0 in /Users/zhussain/opt/anaconda3/envs/LLM4JDM/lib/python3.8/site-packages (from datasets) (11.0.0)\r\n",
      "Requirement already satisfied: dill<0.3.8,>=0.3.0 in /Users/zhussain/opt/anaconda3/envs/LLM4JDM/lib/python3.8/site-packages (from datasets) (0.3.7)\r\n",
      "Requirement already satisfied: pandas in /Users/zhussain/opt/anaconda3/envs/LLM4JDM/lib/python3.8/site-packages (from datasets) (1.4.2)\r\n",
      "Requirement already satisfied: requests>=2.19.0 in /Users/zhussain/opt/anaconda3/envs/LLM4JDM/lib/python3.8/site-packages (from datasets) (2.28.1)\r\n",
      "Requirement already satisfied: tqdm>=4.62.1 in /Users/zhussain/opt/anaconda3/envs/LLM4JDM/lib/python3.8/site-packages (from datasets) (4.65.0)\r\n",
      "Requirement already satisfied: xxhash in /Users/zhussain/opt/anaconda3/envs/LLM4JDM/lib/python3.8/site-packages (from datasets) (0.0.0)\r\n",
      "Requirement already satisfied: multiprocess in /Users/zhussain/opt/anaconda3/envs/LLM4JDM/lib/python3.8/site-packages (from datasets) (0.70.15)\r\n",
      "Requirement already satisfied: fsspec[http]>=2021.11.1 in /Users/zhussain/opt/anaconda3/envs/LLM4JDM/lib/python3.8/site-packages (from datasets) (2023.4.0)\r\n",
      "Requirement already satisfied: aiohttp in /Users/zhussain/opt/anaconda3/envs/LLM4JDM/lib/python3.8/site-packages (from datasets) (3.8.5)\r\n",
      "Requirement already satisfied: huggingface-hub<1.0.0,>=0.14.0 in /Users/zhussain/opt/anaconda3/envs/LLM4JDM/lib/python3.8/site-packages (from datasets) (0.16.4)\r\n",
      "Requirement already satisfied: packaging in /Users/zhussain/opt/anaconda3/envs/LLM4JDM/lib/python3.8/site-packages (from datasets) (21.3)\r\n",
      "Requirement already satisfied: pyyaml>=5.1 in /Users/zhussain/opt/anaconda3/envs/LLM4JDM/lib/python3.8/site-packages (from datasets) (6.0)\r\n",
      "Requirement already satisfied: filelock in /Users/zhussain/opt/anaconda3/envs/LLM4JDM/lib/python3.8/site-packages (from transformers) (3.12.2)\r\n",
      "Requirement already satisfied: regex!=2019.12.17 in /Users/zhussain/opt/anaconda3/envs/LLM4JDM/lib/python3.8/site-packages (from transformers) (2023.6.3)\r\n",
      "Requirement already satisfied: tokenizers!=0.11.3,<0.14,>=0.11.1 in /Users/zhussain/opt/anaconda3/envs/LLM4JDM/lib/python3.8/site-packages (from transformers) (0.13.3)\r\n",
      "Requirement already satisfied: safetensors>=0.3.1 in /Users/zhussain/opt/anaconda3/envs/LLM4JDM/lib/python3.8/site-packages (from transformers) (0.3.1)\r\n",
      "Requirement already satisfied: responses<0.19 in /Users/zhussain/opt/anaconda3/envs/LLM4JDM/lib/python3.8/site-packages (from evaluate) (0.18.0)\r\n",
      "Requirement already satisfied: attrs>=17.3.0 in /Users/zhussain/opt/anaconda3/envs/LLM4JDM/lib/python3.8/site-packages (from aiohttp->datasets) (21.4.0)\r\n",
      "Requirement already satisfied: charset-normalizer<4.0,>=2.0 in /Users/zhussain/opt/anaconda3/envs/LLM4JDM/lib/python3.8/site-packages (from aiohttp->datasets) (2.1.1)\r\n",
      "Requirement already satisfied: multidict<7.0,>=4.5 in /Users/zhussain/opt/anaconda3/envs/LLM4JDM/lib/python3.8/site-packages (from aiohttp->datasets) (6.0.4)\r\n",
      "Requirement already satisfied: async-timeout<5.0,>=4.0.0a3 in /Users/zhussain/opt/anaconda3/envs/LLM4JDM/lib/python3.8/site-packages (from aiohttp->datasets) (4.0.2)\r\n",
      "Requirement already satisfied: yarl<2.0,>=1.0 in /Users/zhussain/opt/anaconda3/envs/LLM4JDM/lib/python3.8/site-packages (from aiohttp->datasets) (1.9.2)\r\n",
      "Requirement already satisfied: frozenlist>=1.1.1 in /Users/zhussain/opt/anaconda3/envs/LLM4JDM/lib/python3.8/site-packages (from aiohttp->datasets) (1.4.0)\r\n",
      "Requirement already satisfied: aiosignal>=1.1.2 in /Users/zhussain/opt/anaconda3/envs/LLM4JDM/lib/python3.8/site-packages (from aiohttp->datasets) (1.3.1)\r\n",
      "Requirement already satisfied: typing-extensions>=3.7.4.3 in /Users/zhussain/opt/anaconda3/envs/LLM4JDM/lib/python3.8/site-packages (from huggingface-hub<1.0.0,>=0.14.0->datasets) (4.1.1)\r\n",
      "Requirement already satisfied: pyparsing!=3.0.5,>=2.0.2 in /Users/zhussain/opt/anaconda3/envs/LLM4JDM/lib/python3.8/site-packages (from packaging->datasets) (3.0.4)\r\n",
      "Requirement already satisfied: idna<4,>=2.5 in /Users/zhussain/opt/anaconda3/envs/LLM4JDM/lib/python3.8/site-packages (from requests>=2.19.0->datasets) (3.4)\r\n",
      "Requirement already satisfied: urllib3<1.27,>=1.21.1 in /Users/zhussain/opt/anaconda3/envs/LLM4JDM/lib/python3.8/site-packages (from requests>=2.19.0->datasets) (1.26.13)\r\n",
      "Requirement already satisfied: certifi>=2017.4.17 in /Users/zhussain/opt/anaconda3/envs/LLM4JDM/lib/python3.8/site-packages (from requests>=2.19.0->datasets) (2022.12.7)\r\n",
      "Requirement already satisfied: python-dateutil>=2.8.1 in /Users/zhussain/opt/anaconda3/envs/LLM4JDM/lib/python3.8/site-packages (from pandas->datasets) (2.8.2)\r\n",
      "Requirement already satisfied: pytz>=2020.1 in /Users/zhussain/opt/anaconda3/envs/LLM4JDM/lib/python3.8/site-packages (from pandas->datasets) (2022.1)\r\n",
      "Requirement already satisfied: six>=1.5 in /Users/zhussain/opt/anaconda3/envs/LLM4JDM/lib/python3.8/site-packages (from python-dateutil>=2.8.1->pandas->datasets) (1.16.0)\r\n",
      "Requirement already satisfied: accelerate in /Users/zhussain/opt/anaconda3/envs/LLM4JDM/lib/python3.8/site-packages (0.21.0)\r\n",
      "Requirement already satisfied: numpy>=1.17 in /Users/zhussain/opt/anaconda3/envs/LLM4JDM/lib/python3.8/site-packages (from accelerate) (1.22.3)\r\n",
      "Requirement already satisfied: packaging>=20.0 in /Users/zhussain/opt/anaconda3/envs/LLM4JDM/lib/python3.8/site-packages (from accelerate) (21.3)\r\n",
      "Requirement already satisfied: psutil in /Users/zhussain/opt/anaconda3/envs/LLM4JDM/lib/python3.8/site-packages (from accelerate) (5.9.5)\r\n",
      "Requirement already satisfied: pyyaml in /Users/zhussain/opt/anaconda3/envs/LLM4JDM/lib/python3.8/site-packages (from accelerate) (6.0)\r\n",
      "Requirement already satisfied: torch>=1.10.0 in /Users/zhussain/opt/anaconda3/envs/LLM4JDM/lib/python3.8/site-packages (from accelerate) (2.1.0.dev20230807)\r\n",
      "Requirement already satisfied: pyparsing!=3.0.5,>=2.0.2 in /Users/zhussain/opt/anaconda3/envs/LLM4JDM/lib/python3.8/site-packages (from packaging>=20.0->accelerate) (3.0.4)\r\n",
      "Requirement already satisfied: filelock in /Users/zhussain/opt/anaconda3/envs/LLM4JDM/lib/python3.8/site-packages (from torch>=1.10.0->accelerate) (3.12.2)\r\n",
      "Requirement already satisfied: typing-extensions in /Users/zhussain/opt/anaconda3/envs/LLM4JDM/lib/python3.8/site-packages (from torch>=1.10.0->accelerate) (4.1.1)\r\n",
      "Requirement already satisfied: sympy in /Users/zhussain/opt/anaconda3/envs/LLM4JDM/lib/python3.8/site-packages (from torch>=1.10.0->accelerate) (1.11.1)\r\n",
      "Requirement already satisfied: networkx in /Users/zhussain/opt/anaconda3/envs/LLM4JDM/lib/python3.8/site-packages (from torch>=1.10.0->accelerate) (3.0rc1)\r\n",
      "Requirement already satisfied: jinja2 in /Users/zhussain/opt/anaconda3/envs/LLM4JDM/lib/python3.8/site-packages (from torch>=1.10.0->accelerate) (3.0.3)\r\n",
      "Requirement already satisfied: fsspec in /Users/zhussain/opt/anaconda3/envs/LLM4JDM/lib/python3.8/site-packages (from torch>=1.10.0->accelerate) (2023.4.0)\r\n",
      "Requirement already satisfied: MarkupSafe>=2.0 in /Users/zhussain/opt/anaconda3/envs/LLM4JDM/lib/python3.8/site-packages (from jinja2->torch>=1.10.0->accelerate) (2.1.1)\r\n",
      "Requirement already satisfied: mpmath>=0.19 in /Users/zhussain/opt/anaconda3/envs/LLM4JDM/lib/python3.8/site-packages (from sympy->torch>=1.10.0->accelerate) (1.2.1)\r\n"
     ]
    },
    {
     "name": "stderr",
     "output_type": "stream",
     "text": [
      "\n",
      "KeyboardInterrupt\n",
      "\n"
     ]
    }
   ],
   "source": [
    "# Installing packages in Google Colab environment\n",
    "# !pip install datasets transformers evaluate\n",
    "# !pip install accelerate -U\n",
    "#\n",
    "# # Mounting google drive to enable access to data files\n",
    "# from google.colab import drive\n",
    "# drive.mount('/content/drive')\n",
    "#\n",
    "# # Changing working directory to ex1\n",
    "# %cd /content/drive/MyDrive/LLM4JDM/ex1"
   ],
   "metadata": {
    "collapsed": false,
    "ExecuteTime": {
     "end_time": "2023-08-10T11:42:21.387391Z",
     "start_time": "2023-08-10T11:42:18.530068Z"
    }
   }
  },
  {
   "cell_type": "markdown",
   "source": [
    "# Preparing data\n",
    "We begin by loading the requisite packages. For those coming from R, packages in Python are sometimes given shorter names for use in the code via the ```import <name> as <nickname>``` syntax (e.g. ```import pandas as pd```). These are usually standardized nicknames. We here make use of three packages:\n",
    "1. ```pandas```: A very popular library for reading and manipulating data in python.\n",
    "2. ```datasets```: A package from the HuggingFace (HF) ecosystem for loading and manipulating datasets in a format ready for use with HF models.\n",
    "3. ```transformers```: A package from the HF ecosystem for loading and manipulating transfomer-based models."
   ],
   "metadata": {
    "collapsed": false
   }
  },
  {
   "cell_type": "code",
   "execution_count": 1,
   "outputs": [],
   "source": [
    "import pandas as pd\n",
    "from datasets import Dataset\n",
    "from transformers import AutoTokenizer"
   ],
   "metadata": {
    "collapsed": false,
    "ExecuteTime": {
     "end_time": "2023-08-09T16:03:18.242287Z",
     "start_time": "2023-08-09T16:03:16.551213Z"
    }
   }
  },
  {
   "cell_type": "code",
   "execution_count": 2,
   "outputs": [
    {
     "data": {
      "text/plain": "      labels                                               text\n0      0.625  Looking at the probability of certain negative...\n1      0.750  Not really, I looked at all the numbers and ma...\n2      0.750  I weighed the side effects with the benefits a...\n3      0.375  Percentages were important. In all things (med...\n4      0.250  I would look up the potential side effects and...\n...      ...                                                ...\n1046   0.750  I looked primarily at the effectiveness of eac...\n1047   0.125                        Personal experience talking\n1048   0.750                         Biased against the vaccine\n1049   0.250  I have had a lot of people whos gotten the vac...\n1050   0.000  My initial choice was to wait and not rush for...\n\n[1051 rows x 2 columns]",
      "text/html": "<div>\n<style scoped>\n    .dataframe tbody tr th:only-of-type {\n        vertical-align: middle;\n    }\n\n    .dataframe tbody tr th {\n        vertical-align: top;\n    }\n\n    .dataframe thead th {\n        text-align: right;\n    }\n</style>\n<table border=\"1\" class=\"dataframe\">\n  <thead>\n    <tr style=\"text-align: right;\">\n      <th></th>\n      <th>labels</th>\n      <th>text</th>\n    </tr>\n  </thead>\n  <tbody>\n    <tr>\n      <th>0</th>\n      <td>0.625</td>\n      <td>Looking at the probability of certain negative...</td>\n    </tr>\n    <tr>\n      <th>1</th>\n      <td>0.750</td>\n      <td>Not really, I looked at all the numbers and ma...</td>\n    </tr>\n    <tr>\n      <th>2</th>\n      <td>0.750</td>\n      <td>I weighed the side effects with the benefits a...</td>\n    </tr>\n    <tr>\n      <th>3</th>\n      <td>0.375</td>\n      <td>Percentages were important. In all things (med...</td>\n    </tr>\n    <tr>\n      <th>4</th>\n      <td>0.250</td>\n      <td>I would look up the potential side effects and...</td>\n    </tr>\n    <tr>\n      <th>...</th>\n      <td>...</td>\n      <td>...</td>\n    </tr>\n    <tr>\n      <th>1046</th>\n      <td>0.750</td>\n      <td>I looked primarily at the effectiveness of eac...</td>\n    </tr>\n    <tr>\n      <th>1047</th>\n      <td>0.125</td>\n      <td>Personal experience talking</td>\n    </tr>\n    <tr>\n      <th>1048</th>\n      <td>0.750</td>\n      <td>Biased against the vaccine</td>\n    </tr>\n    <tr>\n      <th>1049</th>\n      <td>0.250</td>\n      <td>I have had a lot of people whos gotten the vac...</td>\n    </tr>\n    <tr>\n      <th>1050</th>\n      <td>0.000</td>\n      <td>My initial choice was to wait and not rush for...</td>\n    </tr>\n  </tbody>\n</table>\n<p>1051 rows × 2 columns</p>\n</div>"
     },
     "execution_count": 2,
     "metadata": {},
     "output_type": "execute_result"
    }
   ],
   "source": [
    "vaccine = pd.read_csv('vaccine.csv')\n",
    "vaccine"
   ],
   "metadata": {
    "collapsed": false,
    "ExecuteTime": {
     "end_time": "2023-08-09T16:03:18.266658Z",
     "start_time": "2023-08-09T16:03:18.242872Z"
    }
   }
  },
  {
   "cell_type": "code",
   "execution_count": 3,
   "outputs": [
    {
     "data": {
      "text/plain": "Dataset({\n    features: ['labels', 'text'],\n    num_rows: 1051\n})"
     },
     "execution_count": 3,
     "metadata": {},
     "output_type": "execute_result"
    }
   ],
   "source": [
    "# Converting pandas dataframe to HF Dataset\n",
    "vaccine = Dataset.from_pandas(vaccine)\n",
    "vaccine"
   ],
   "metadata": {
    "collapsed": false,
    "ExecuteTime": {
     "end_time": "2023-08-09T16:03:18.300123Z",
     "start_time": "2023-08-09T16:03:18.261673Z"
    }
   }
  },
  {
   "cell_type": "markdown",
   "source": [
    "Features of the ```Dataset``` object can be accessed like keys in a dictionary, and behave like python lists. Sample can be accessed by index, returning a dictionary where keys correspond to feature names. This reflects the fact that ```Datasets``` is based on Apache Arrow, which defines a typed columnar format that is more memory efficient than native Python"
   ],
   "metadata": {
    "collapsed": false
   }
  },
  {
   "cell_type": "code",
   "execution_count": 4,
   "outputs": [
    {
     "data": {
      "text/plain": "{'labels': 0.625,\n 'text': 'Looking at the probability of certain negative side effects and seeing if the vaccine genuinely protects someone would be very important.'}"
     },
     "execution_count": 4,
     "metadata": {},
     "output_type": "execute_result"
    }
   ],
   "source": [
    "vaccine[0]"
   ],
   "metadata": {
    "collapsed": false,
    "ExecuteTime": {
     "end_time": "2023-08-09T16:03:18.315658Z",
     "start_time": "2023-08-09T16:03:18.276522Z"
    }
   }
  },
  {
   "cell_type": "markdown",
   "source": [
    "To use models in the HF ecosystem, one must first define a model checkpoint (```ckpt```): the set of weights that are loaded into a given transformer architecture. This often needs to be done well before we even initialise the model, since data preprocessing steps such as tokenization must follow the steps used to train the original model. We just need a pretrained base model for our purposes (i.e. one that has not yet been fine-tuned on a specific task). One popular lightweight option is ```distilbert-base-uncased```."
   ],
   "metadata": {
    "collapsed": false
   }
  },
  {
   "cell_type": "code",
   "execution_count": 5,
   "outputs": [],
   "source": [
    "# Defining model checkpoint\n",
    "model_ckpt = 'distilbert-base-uncased'"
   ],
   "metadata": {
    "collapsed": false,
    "ExecuteTime": {
     "end_time": "2023-08-09T16:03:20.654061Z",
     "start_time": "2023-08-09T16:03:20.649327Z"
    }
   }
  },
  {
   "cell_type": "markdown",
   "source": [
    "Tokenization is the process of breaking raw text into the desired atomic units for one's modelling task. This may be as simple as splitting the text into individual characters. In the case of transformer-based models, tokenization is a bit more complex, usually occurring at the sub-word level."
   ],
   "metadata": {
    "collapsed": false
   }
  },
  {
   "cell_type": "code",
   "execution_count": 6,
   "outputs": [
    {
     "name": "stdout",
     "output_type": "stream",
     "text": [
      "Vocabulary size: 30522, max context length: 512\n"
     ]
    }
   ],
   "source": [
    "# Tokenizing the dataset\n",
    "tokenizer = AutoTokenizer.from_pretrained(model_ckpt)\n",
    "print(f'Vocabulary size: {tokenizer.vocab_size}, max context length: {tokenizer.model_max_length}')"
   ],
   "metadata": {
    "collapsed": false,
    "ExecuteTime": {
     "end_time": "2023-08-09T16:03:24.054905Z",
     "start_time": "2023-08-09T16:03:23.619521Z"
    }
   }
  },
  {
   "cell_type": "markdown",
   "source": [
    "Two important arguments relating to tokenization:\n",
    "1. ```padding```: Used to fill up sequences to a certain length, ensuring that all sequences in a batch have the same length. This is essential for training and inference with deep learning models that operate on fixed-size input tensors.\n",
    "2. ```truncation```: Truncation is the process of cutting off parts of the sequence to ensure that it fits within a specified maximum length (e.g. 512 tokens for BERT models)\n",
    "\n",
    "The combination of padding and truncation ensures that all sequences in a batch conform to a consistent, fixed size, which is essential for processing in parallel on modern hardware like GPUs"
   ],
   "metadata": {
    "collapsed": false
   }
  },
  {
   "cell_type": "code",
   "execution_count": 7,
   "outputs": [
    {
     "data": {
      "text/plain": "Map:   0%|          | 0/1051 [00:00<?, ? examples/s]",
      "application/vnd.jupyter.widget-view+json": {
       "version_major": 2,
       "version_minor": 0,
       "model_id": "c4fe8a91256c46a399f44af1abca17a7"
      }
     },
     "metadata": {},
     "output_type": "display_data"
    },
    {
     "data": {
      "text/plain": "{'labels': 0.625,\n 'text': 'Looking at the probability of certain negative side effects and seeing if the vaccine genuinely protects someone would be very important.',\n 'input_ids': [101,\n  2559,\n  2012,\n  1996,\n  9723,\n  1997,\n  3056,\n  4997,\n  2217,\n  3896,\n  1998,\n  3773,\n  2065,\n  1996,\n  17404,\n  15958,\n  18227,\n  2619,\n  2052,\n  2022,\n  2200,\n  2590,\n  1012,\n  102,\n  0,\n  0,\n  0,\n  0,\n  0,\n  0,\n  0,\n  0,\n  0,\n  0,\n  0,\n  0,\n  0,\n  0,\n  0,\n  0,\n  0,\n  0,\n  0,\n  0,\n  0,\n  0,\n  0,\n  0,\n  0,\n  0,\n  0,\n  0,\n  0,\n  0,\n  0,\n  0,\n  0,\n  0,\n  0,\n  0,\n  0,\n  0,\n  0,\n  0,\n  0,\n  0,\n  0,\n  0,\n  0,\n  0,\n  0,\n  0,\n  0,\n  0,\n  0,\n  0,\n  0,\n  0,\n  0,\n  0,\n  0,\n  0,\n  0,\n  0,\n  0,\n  0,\n  0,\n  0,\n  0,\n  0,\n  0,\n  0,\n  0,\n  0,\n  0,\n  0,\n  0,\n  0,\n  0,\n  0,\n  0,\n  0,\n  0,\n  0,\n  0,\n  0,\n  0,\n  0,\n  0,\n  0,\n  0,\n  0,\n  0,\n  0,\n  0,\n  0,\n  0,\n  0,\n  0,\n  0,\n  0,\n  0,\n  0,\n  0,\n  0,\n  0,\n  0,\n  0,\n  0,\n  0,\n  0,\n  0,\n  0,\n  0,\n  0,\n  0,\n  0,\n  0,\n  0,\n  0,\n  0,\n  0,\n  0,\n  0,\n  0,\n  0,\n  0,\n  0,\n  0,\n  0,\n  0,\n  0,\n  0,\n  0,\n  0,\n  0,\n  0,\n  0,\n  0,\n  0,\n  0,\n  0,\n  0,\n  0,\n  0,\n  0,\n  0,\n  0,\n  0,\n  0,\n  0,\n  0,\n  0,\n  0,\n  0,\n  0,\n  0,\n  0,\n  0,\n  0,\n  0,\n  0,\n  0,\n  0,\n  0,\n  0,\n  0,\n  0,\n  0,\n  0,\n  0,\n  0,\n  0,\n  0,\n  0,\n  0,\n  0,\n  0,\n  0,\n  0,\n  0,\n  0,\n  0,\n  0,\n  0,\n  0,\n  0,\n  0,\n  0,\n  0,\n  0,\n  0,\n  0,\n  0,\n  0,\n  0,\n  0,\n  0,\n  0,\n  0,\n  0,\n  0,\n  0,\n  0,\n  0,\n  0,\n  0,\n  0,\n  0,\n  0,\n  0,\n  0,\n  0,\n  0,\n  0,\n  0,\n  0,\n  0,\n  0,\n  0,\n  0,\n  0,\n  0,\n  0,\n  0,\n  0,\n  0,\n  0,\n  0,\n  0,\n  0,\n  0,\n  0,\n  0,\n  0,\n  0,\n  0,\n  0,\n  0,\n  0,\n  0,\n  0,\n  0,\n  0,\n  0,\n  0,\n  0,\n  0,\n  0,\n  0,\n  0,\n  0,\n  0,\n  0,\n  0,\n  0,\n  0,\n  0,\n  0,\n  0,\n  0,\n  0,\n  0,\n  0,\n  0,\n  0,\n  0,\n  0,\n  0,\n  0,\n  0,\n  0,\n  0,\n  0,\n  0,\n  0,\n  0,\n  0,\n  0,\n  0,\n  0,\n  0,\n  0,\n  0,\n  0,\n  0,\n  0,\n  0,\n  0,\n  0,\n  0,\n  0,\n  0,\n  0,\n  0,\n  0,\n  0,\n  0,\n  0,\n  0,\n  0,\n  0,\n  0,\n  0,\n  0,\n  0,\n  0,\n  0,\n  0,\n  0,\n  0,\n  0,\n  0,\n  0,\n  0,\n  0,\n  0,\n  0,\n  0,\n  0,\n  0,\n  0,\n  0,\n  0,\n  0,\n  0,\n  0,\n  0,\n  0,\n  0,\n  0,\n  0,\n  0,\n  0,\n  0,\n  0,\n  0,\n  0,\n  0,\n  0,\n  0,\n  0,\n  0,\n  0,\n  0,\n  0,\n  0,\n  0,\n  0,\n  0,\n  0,\n  0,\n  0,\n  0,\n  0,\n  0,\n  0,\n  0,\n  0,\n  0,\n  0,\n  0,\n  0,\n  0,\n  0,\n  0,\n  0,\n  0,\n  0,\n  0,\n  0,\n  0,\n  0,\n  0,\n  0,\n  0,\n  0,\n  0,\n  0,\n  0,\n  0,\n  0,\n  0,\n  0,\n  0,\n  0,\n  0,\n  0,\n  0,\n  0,\n  0,\n  0,\n  0,\n  0,\n  0,\n  0,\n  0,\n  0,\n  0,\n  0,\n  0,\n  0,\n  0,\n  0,\n  0,\n  0,\n  0,\n  0,\n  0,\n  0,\n  0,\n  0,\n  0,\n  0,\n  0,\n  0,\n  0,\n  0,\n  0,\n  0,\n  0,\n  0,\n  0,\n  0,\n  0,\n  0,\n  0,\n  0,\n  0,\n  0,\n  0,\n  0,\n  0,\n  0,\n  0,\n  0,\n  0,\n  0,\n  0,\n  0,\n  0,\n  0,\n  0,\n  0,\n  0,\n  0,\n  0,\n  0,\n  0,\n  0,\n  0,\n  0,\n  0,\n  0,\n  0,\n  0,\n  0,\n  0,\n  0,\n  0,\n  0,\n  0,\n  0,\n  0,\n  0,\n  0,\n  0,\n  0,\n  0,\n  0,\n  0,\n  0,\n  0,\n  0,\n  0,\n  0,\n  0,\n  0,\n  0,\n  0,\n  0,\n  0,\n  0,\n  0,\n  0,\n  0,\n  0,\n  0,\n  0,\n  0,\n  0,\n  0],\n 'attention_mask': [1,\n  1,\n  1,\n  1,\n  1,\n  1,\n  1,\n  1,\n  1,\n  1,\n  1,\n  1,\n  1,\n  1,\n  1,\n  1,\n  1,\n  1,\n  1,\n  1,\n  1,\n  1,\n  1,\n  1,\n  0,\n  0,\n  0,\n  0,\n  0,\n  0,\n  0,\n  0,\n  0,\n  0,\n  0,\n  0,\n  0,\n  0,\n  0,\n  0,\n  0,\n  0,\n  0,\n  0,\n  0,\n  0,\n  0,\n  0,\n  0,\n  0,\n  0,\n  0,\n  0,\n  0,\n  0,\n  0,\n  0,\n  0,\n  0,\n  0,\n  0,\n  0,\n  0,\n  0,\n  0,\n  0,\n  0,\n  0,\n  0,\n  0,\n  0,\n  0,\n  0,\n  0,\n  0,\n  0,\n  0,\n  0,\n  0,\n  0,\n  0,\n  0,\n  0,\n  0,\n  0,\n  0,\n  0,\n  0,\n  0,\n  0,\n  0,\n  0,\n  0,\n  0,\n  0,\n  0,\n  0,\n  0,\n  0,\n  0,\n  0,\n  0,\n  0,\n  0,\n  0,\n  0,\n  0,\n  0,\n  0,\n  0,\n  0,\n  0,\n  0,\n  0,\n  0,\n  0,\n  0,\n  0,\n  0,\n  0,\n  0,\n  0,\n  0,\n  0,\n  0,\n  0,\n  0,\n  0,\n  0,\n  0,\n  0,\n  0,\n  0,\n  0,\n  0,\n  0,\n  0,\n  0,\n  0,\n  0,\n  0,\n  0,\n  0,\n  0,\n  0,\n  0,\n  0,\n  0,\n  0,\n  0,\n  0,\n  0,\n  0,\n  0,\n  0,\n  0,\n  0,\n  0,\n  0,\n  0,\n  0,\n  0,\n  0,\n  0,\n  0,\n  0,\n  0,\n  0,\n  0,\n  0,\n  0,\n  0,\n  0,\n  0,\n  0,\n  0,\n  0,\n  0,\n  0,\n  0,\n  0,\n  0,\n  0,\n  0,\n  0,\n  0,\n  0,\n  0,\n  0,\n  0,\n  0,\n  0,\n  0,\n  0,\n  0,\n  0,\n  0,\n  0,\n  0,\n  0,\n  0,\n  0,\n  0,\n  0,\n  0,\n  0,\n  0,\n  0,\n  0,\n  0,\n  0,\n  0,\n  0,\n  0,\n  0,\n  0,\n  0,\n  0,\n  0,\n  0,\n  0,\n  0,\n  0,\n  0,\n  0,\n  0,\n  0,\n  0,\n  0,\n  0,\n  0,\n  0,\n  0,\n  0,\n  0,\n  0,\n  0,\n  0,\n  0,\n  0,\n  0,\n  0,\n  0,\n  0,\n  0,\n  0,\n  0,\n  0,\n  0,\n  0,\n  0,\n  0,\n  0,\n  0,\n  0,\n  0,\n  0,\n  0,\n  0,\n  0,\n  0,\n  0,\n  0,\n  0,\n  0,\n  0,\n  0,\n  0,\n  0,\n  0,\n  0,\n  0,\n  0,\n  0,\n  0,\n  0,\n  0,\n  0,\n  0,\n  0,\n  0,\n  0,\n  0,\n  0,\n  0,\n  0,\n  0,\n  0,\n  0,\n  0,\n  0,\n  0,\n  0,\n  0,\n  0,\n  0,\n  0,\n  0,\n  0,\n  0,\n  0,\n  0,\n  0,\n  0,\n  0,\n  0,\n  0,\n  0,\n  0,\n  0,\n  0,\n  0,\n  0,\n  0,\n  0,\n  0,\n  0,\n  0,\n  0,\n  0,\n  0,\n  0,\n  0,\n  0,\n  0,\n  0,\n  0,\n  0,\n  0,\n  0,\n  0,\n  0,\n  0,\n  0,\n  0,\n  0,\n  0,\n  0,\n  0,\n  0,\n  0,\n  0,\n  0,\n  0,\n  0,\n  0,\n  0,\n  0,\n  0,\n  0,\n  0,\n  0,\n  0,\n  0,\n  0,\n  0,\n  0,\n  0,\n  0,\n  0,\n  0,\n  0,\n  0,\n  0,\n  0,\n  0,\n  0,\n  0,\n  0,\n  0,\n  0,\n  0,\n  0,\n  0,\n  0,\n  0,\n  0,\n  0,\n  0,\n  0,\n  0,\n  0,\n  0,\n  0,\n  0,\n  0,\n  0,\n  0,\n  0,\n  0,\n  0,\n  0,\n  0,\n  0,\n  0,\n  0,\n  0,\n  0,\n  0,\n  0,\n  0,\n  0,\n  0,\n  0,\n  0,\n  0,\n  0,\n  0,\n  0,\n  0,\n  0,\n  0,\n  0,\n  0,\n  0,\n  0,\n  0,\n  0,\n  0,\n  0,\n  0,\n  0,\n  0,\n  0,\n  0,\n  0,\n  0,\n  0,\n  0,\n  0,\n  0,\n  0,\n  0,\n  0,\n  0,\n  0,\n  0,\n  0,\n  0,\n  0,\n  0,\n  0,\n  0,\n  0,\n  0,\n  0,\n  0,\n  0,\n  0,\n  0,\n  0,\n  0,\n  0,\n  0,\n  0,\n  0,\n  0,\n  0,\n  0,\n  0,\n  0,\n  0,\n  0,\n  0,\n  0,\n  0,\n  0,\n  0,\n  0,\n  0,\n  0,\n  0,\n  0,\n  0,\n  0,\n  0,\n  0,\n  0,\n  0,\n  0,\n  0,\n  0,\n  0,\n  0,\n  0,\n  0,\n  0,\n  0,\n  0,\n  0,\n  0,\n  0,\n  0,\n  0,\n  0,\n  0,\n  0,\n  0,\n  0,\n  0,\n  0,\n  0,\n  0,\n  0,\n  0,\n  0,\n  0,\n  0,\n  0,\n  0,\n  0,\n  0]}"
     },
     "execution_count": 7,
     "metadata": {},
     "output_type": "execute_result"
    }
   ],
   "source": [
    "tokenize = lambda batch: tokenizer(batch['text'], padding=\"max_length\", truncation=True)\n",
    "vaccine = vaccine.map(tokenize, batched=True)\n",
    "vaccine[0]"
   ],
   "metadata": {
    "collapsed": false,
    "ExecuteTime": {
     "end_time": "2023-08-09T16:03:26.121209Z",
     "start_time": "2023-08-09T16:03:25.929045Z"
    }
   }
  },
  {
   "cell_type": "markdown",
   "source": [
    "Looking at the first sample, we see some important special tokens:\n",
    "1. ```[CLS]```: Often added at the beginning of the input sequence. In the context of classification tasks, the embedding corresponding to the [CLS] token (after passing through the model) is often used as the aggregate representation for the entire sequence.\n",
    "2. ```[SEP]```: Used to separate different segments in a sequence. For example, in tasks that take two different sentences as input (such as question-answering or text-pair classification), the [SEP] token is placed between the two sentences to indicate that they are distinct segments. This helps the model understand and process the two segments appropriately, recognizing the boundaries between them."
   ],
   "metadata": {
    "collapsed": false
   }
  },
  {
   "cell_type": "code",
   "execution_count": 8,
   "outputs": [
    {
     "data": {
      "text/plain": "['[CLS]',\n 'looking',\n 'at',\n 'the',\n 'probability',\n 'of',\n 'certain',\n 'negative',\n 'side',\n 'effects',\n 'and',\n 'seeing',\n 'if',\n 'the',\n 'vaccine',\n 'genuinely',\n 'protects',\n 'someone',\n 'would',\n 'be',\n 'very',\n 'important',\n '.',\n '[SEP]',\n '[PAD]',\n '[PAD]',\n '[PAD]',\n '[PAD]',\n '[PAD]',\n '[PAD]',\n '[PAD]',\n '[PAD]',\n '[PAD]',\n '[PAD]',\n '[PAD]',\n '[PAD]',\n '[PAD]',\n '[PAD]',\n '[PAD]',\n '[PAD]',\n '[PAD]',\n '[PAD]',\n '[PAD]',\n '[PAD]',\n '[PAD]',\n '[PAD]',\n '[PAD]',\n '[PAD]',\n '[PAD]',\n '[PAD]',\n '[PAD]',\n '[PAD]',\n '[PAD]',\n '[PAD]',\n '[PAD]',\n '[PAD]',\n '[PAD]',\n '[PAD]',\n '[PAD]',\n '[PAD]',\n '[PAD]',\n '[PAD]',\n '[PAD]',\n '[PAD]',\n '[PAD]',\n '[PAD]',\n '[PAD]',\n '[PAD]',\n '[PAD]',\n '[PAD]',\n '[PAD]',\n '[PAD]',\n '[PAD]',\n '[PAD]',\n '[PAD]',\n '[PAD]',\n '[PAD]',\n '[PAD]',\n '[PAD]',\n '[PAD]',\n '[PAD]',\n '[PAD]',\n '[PAD]',\n '[PAD]',\n '[PAD]',\n '[PAD]',\n '[PAD]',\n '[PAD]',\n '[PAD]',\n '[PAD]',\n '[PAD]',\n '[PAD]',\n '[PAD]',\n '[PAD]',\n '[PAD]',\n '[PAD]',\n '[PAD]',\n '[PAD]',\n '[PAD]',\n '[PAD]',\n '[PAD]',\n '[PAD]',\n '[PAD]',\n '[PAD]',\n '[PAD]',\n '[PAD]',\n '[PAD]',\n '[PAD]',\n '[PAD]',\n '[PAD]',\n '[PAD]',\n '[PAD]',\n '[PAD]',\n '[PAD]',\n '[PAD]',\n '[PAD]',\n '[PAD]',\n '[PAD]',\n '[PAD]',\n '[PAD]',\n '[PAD]',\n '[PAD]',\n '[PAD]',\n '[PAD]',\n '[PAD]',\n '[PAD]',\n '[PAD]',\n '[PAD]',\n '[PAD]',\n '[PAD]',\n '[PAD]',\n '[PAD]',\n '[PAD]',\n '[PAD]',\n '[PAD]',\n '[PAD]',\n '[PAD]',\n '[PAD]',\n '[PAD]',\n '[PAD]',\n '[PAD]',\n '[PAD]',\n '[PAD]',\n '[PAD]',\n '[PAD]',\n '[PAD]',\n '[PAD]',\n '[PAD]',\n '[PAD]',\n '[PAD]',\n '[PAD]',\n '[PAD]',\n '[PAD]',\n '[PAD]',\n '[PAD]',\n '[PAD]',\n '[PAD]',\n '[PAD]',\n '[PAD]',\n '[PAD]',\n '[PAD]',\n '[PAD]',\n '[PAD]',\n '[PAD]',\n '[PAD]',\n '[PAD]',\n '[PAD]',\n '[PAD]',\n '[PAD]',\n '[PAD]',\n '[PAD]',\n '[PAD]',\n '[PAD]',\n '[PAD]',\n '[PAD]',\n '[PAD]',\n '[PAD]',\n '[PAD]',\n '[PAD]',\n '[PAD]',\n '[PAD]',\n '[PAD]',\n '[PAD]',\n '[PAD]',\n '[PAD]',\n '[PAD]',\n '[PAD]',\n '[PAD]',\n '[PAD]',\n '[PAD]',\n '[PAD]',\n '[PAD]',\n '[PAD]',\n '[PAD]',\n '[PAD]',\n '[PAD]',\n '[PAD]',\n '[PAD]',\n '[PAD]',\n '[PAD]',\n '[PAD]',\n '[PAD]',\n '[PAD]',\n '[PAD]',\n '[PAD]',\n '[PAD]',\n '[PAD]',\n '[PAD]',\n '[PAD]',\n '[PAD]',\n '[PAD]',\n '[PAD]',\n '[PAD]',\n '[PAD]',\n '[PAD]',\n '[PAD]',\n '[PAD]',\n '[PAD]',\n '[PAD]',\n '[PAD]',\n '[PAD]',\n '[PAD]',\n '[PAD]',\n '[PAD]',\n '[PAD]',\n '[PAD]',\n '[PAD]',\n '[PAD]',\n '[PAD]',\n '[PAD]',\n '[PAD]',\n '[PAD]',\n '[PAD]',\n '[PAD]',\n '[PAD]',\n '[PAD]',\n '[PAD]',\n '[PAD]',\n '[PAD]',\n '[PAD]',\n '[PAD]',\n '[PAD]',\n '[PAD]',\n '[PAD]',\n '[PAD]',\n '[PAD]',\n '[PAD]',\n '[PAD]',\n '[PAD]',\n '[PAD]',\n '[PAD]',\n '[PAD]',\n '[PAD]',\n '[PAD]',\n '[PAD]',\n '[PAD]',\n '[PAD]',\n '[PAD]',\n '[PAD]',\n '[PAD]',\n '[PAD]',\n '[PAD]',\n '[PAD]',\n '[PAD]',\n '[PAD]',\n '[PAD]',\n '[PAD]',\n '[PAD]',\n '[PAD]',\n '[PAD]',\n '[PAD]',\n '[PAD]',\n '[PAD]',\n '[PAD]',\n '[PAD]',\n '[PAD]',\n '[PAD]',\n '[PAD]',\n '[PAD]',\n '[PAD]',\n '[PAD]',\n '[PAD]',\n '[PAD]',\n '[PAD]',\n '[PAD]',\n '[PAD]',\n '[PAD]',\n '[PAD]',\n '[PAD]',\n '[PAD]',\n '[PAD]',\n '[PAD]',\n '[PAD]',\n '[PAD]',\n '[PAD]',\n '[PAD]',\n '[PAD]',\n '[PAD]',\n '[PAD]',\n '[PAD]',\n '[PAD]',\n '[PAD]',\n '[PAD]',\n '[PAD]',\n '[PAD]',\n '[PAD]',\n '[PAD]',\n '[PAD]',\n '[PAD]',\n '[PAD]',\n '[PAD]',\n '[PAD]',\n '[PAD]',\n '[PAD]',\n '[PAD]',\n '[PAD]',\n '[PAD]',\n '[PAD]',\n '[PAD]',\n '[PAD]',\n '[PAD]',\n '[PAD]',\n '[PAD]',\n '[PAD]',\n '[PAD]',\n '[PAD]',\n '[PAD]',\n '[PAD]',\n '[PAD]',\n '[PAD]',\n '[PAD]',\n '[PAD]',\n '[PAD]',\n '[PAD]',\n '[PAD]',\n '[PAD]',\n '[PAD]',\n '[PAD]',\n '[PAD]',\n '[PAD]',\n '[PAD]',\n '[PAD]',\n '[PAD]',\n '[PAD]',\n '[PAD]',\n '[PAD]',\n '[PAD]',\n '[PAD]',\n '[PAD]',\n '[PAD]',\n '[PAD]',\n '[PAD]',\n '[PAD]',\n '[PAD]',\n '[PAD]',\n '[PAD]',\n '[PAD]',\n '[PAD]',\n '[PAD]',\n '[PAD]',\n '[PAD]',\n '[PAD]',\n '[PAD]',\n '[PAD]',\n '[PAD]',\n '[PAD]',\n '[PAD]',\n '[PAD]',\n '[PAD]',\n '[PAD]',\n '[PAD]',\n '[PAD]',\n '[PAD]',\n '[PAD]',\n '[PAD]',\n '[PAD]',\n '[PAD]',\n '[PAD]',\n '[PAD]',\n '[PAD]',\n '[PAD]',\n '[PAD]',\n '[PAD]',\n '[PAD]',\n '[PAD]',\n '[PAD]',\n '[PAD]',\n '[PAD]',\n '[PAD]',\n '[PAD]',\n '[PAD]',\n '[PAD]',\n '[PAD]',\n '[PAD]',\n '[PAD]',\n '[PAD]',\n '[PAD]',\n '[PAD]',\n '[PAD]',\n '[PAD]',\n '[PAD]',\n '[PAD]',\n '[PAD]',\n '[PAD]',\n '[PAD]',\n '[PAD]',\n '[PAD]',\n '[PAD]',\n '[PAD]',\n '[PAD]',\n '[PAD]',\n '[PAD]',\n '[PAD]',\n '[PAD]',\n '[PAD]',\n '[PAD]',\n '[PAD]',\n '[PAD]',\n '[PAD]',\n '[PAD]',\n '[PAD]',\n '[PAD]',\n '[PAD]',\n '[PAD]',\n '[PAD]',\n '[PAD]',\n '[PAD]',\n '[PAD]',\n '[PAD]',\n '[PAD]',\n '[PAD]',\n '[PAD]',\n '[PAD]',\n '[PAD]',\n '[PAD]',\n '[PAD]',\n '[PAD]',\n '[PAD]',\n '[PAD]',\n '[PAD]',\n '[PAD]',\n '[PAD]',\n '[PAD]',\n '[PAD]',\n '[PAD]',\n '[PAD]',\n '[PAD]',\n '[PAD]',\n '[PAD]',\n '[PAD]',\n '[PAD]',\n '[PAD]',\n '[PAD]',\n '[PAD]',\n '[PAD]',\n '[PAD]',\n '[PAD]',\n '[PAD]',\n '[PAD]',\n '[PAD]',\n '[PAD]',\n '[PAD]',\n '[PAD]',\n '[PAD]',\n '[PAD]',\n '[PAD]',\n '[PAD]',\n '[PAD]',\n '[PAD]',\n '[PAD]',\n '[PAD]',\n '[PAD]',\n '[PAD]',\n '[PAD]',\n '[PAD]',\n '[PAD]',\n '[PAD]',\n '[PAD]',\n '[PAD]',\n '[PAD]',\n '[PAD]',\n '[PAD]',\n '[PAD]',\n '[PAD]',\n '[PAD]',\n '[PAD]',\n '[PAD]',\n '[PAD]',\n '[PAD]',\n '[PAD]',\n '[PAD]',\n '[PAD]',\n '[PAD]',\n '[PAD]',\n '[PAD]',\n '[PAD]',\n '[PAD]',\n '[PAD]',\n '[PAD]',\n '[PAD]',\n '[PAD]',\n '[PAD]',\n '[PAD]',\n '[PAD]',\n '[PAD]',\n '[PAD]',\n '[PAD]',\n '[PAD]',\n '[PAD]',\n '[PAD]',\n '[PAD]',\n '[PAD]']"
     },
     "execution_count": 8,
     "metadata": {},
     "output_type": "execute_result"
    }
   ],
   "source": [
    "# Inspecting tokenization\n",
    "tokenizer.convert_ids_to_tokens(vaccine[0]['input_ids'])"
   ],
   "metadata": {
    "collapsed": false,
    "ExecuteTime": {
     "end_time": "2023-08-09T16:03:27.163288Z",
     "start_time": "2023-08-09T16:03:27.155543Z"
    }
   }
  },
  {
   "cell_type": "markdown",
   "source": [
    "# Feature Extraction\n",
    "We require two packages/modules for feature extraction:\n",
    "1. ```torch```: The PyTorch package, which is the most popular deep learning framework amongst researchers (https://paperswithcode.com/trends).\n",
    "2. ```Automodel```: A module from the HF ecosystem that allows us to load a pretrained model and use it for inference. This is a very convenient way to use pretrained models, since it abstracts away the details of the model architecture and allows us to focus on the task at hand."
   ],
   "metadata": {
    "collapsed": false
   }
  },
  {
   "cell_type": "code",
   "execution_count": 9,
   "outputs": [],
   "source": [
    "import torch\n",
    "torch.manual_seed(42) # For reproducibility\n",
    "from transformers import AutoModel"
   ],
   "metadata": {
    "collapsed": false,
    "ExecuteTime": {
     "end_time": "2023-08-09T16:03:31.457202Z",
     "start_time": "2023-08-09T16:03:29.815839Z"
    }
   }
  },
  {
   "cell_type": "markdown",
   "source": [
    "In order to pass our data to the model, we need to convert it to torch tensors. If you are familiar with NumPy, torch tensors are very similar, but with the added benefit of being able to run on GPUs (which are optimized for tensor operations)."
   ],
   "metadata": {
    "collapsed": false
   }
  },
  {
   "cell_type": "code",
   "execution_count": 10,
   "outputs": [
    {
     "data": {
      "text/plain": "Dataset({\n    features: ['labels', 'text', 'input_ids', 'attention_mask'],\n    num_rows: 1051\n})"
     },
     "execution_count": 10,
     "metadata": {},
     "output_type": "execute_result"
    }
   ],
   "source": [
    "vaccine.set_format('torch', columns=['input_ids', 'attention_mask', 'labels'])\n",
    "vaccine"
   ],
   "metadata": {
    "collapsed": false,
    "ExecuteTime": {
     "end_time": "2023-08-09T16:03:31.724302Z",
     "start_time": "2023-08-09T16:03:31.720642Z"
    }
   }
  },
  {
   "cell_type": "code",
   "execution_count": 11,
   "outputs": [
    {
     "data": {
      "text/plain": "device(type='mps')"
     },
     "execution_count": 11,
     "metadata": {},
     "output_type": "execute_result"
    }
   ],
   "source": [
    "# Loading the model and moving it to the GPU if available\n",
    "if torch.cuda.is_available():  # for nvidia GPUs\n",
    "    device = torch.device('cuda')\n",
    "elif torch.backends.mps.is_available(): # for Apple Metal Performance Sharder (mps) GPUs\n",
    "    device = torch.device('mps')\n",
    "else:\n",
    "    device = torch.device('cpu')\n",
    "\n",
    "device"
   ],
   "metadata": {
    "collapsed": false,
    "ExecuteTime": {
     "end_time": "2023-08-09T16:03:33.101419Z",
     "start_time": "2023-08-09T16:03:33.099613Z"
    }
   }
  },
  {
   "cell_type": "code",
   "execution_count": 12,
   "outputs": [
    {
     "data": {
      "text/plain": "\"Model inputs: ['input_ids', 'attention_mask']\""
     },
     "execution_count": 12,
     "metadata": {},
     "output_type": "execute_result"
    }
   ],
   "source": [
    "# Loading distilbert-base-uncased and moving it to the GPU if available\n",
    "model = AutoModel.from_pretrained(model_ckpt).to(device)\n",
    "f'Model inputs: {tokenizer.model_input_names}'"
   ],
   "metadata": {
    "collapsed": false,
    "ExecuteTime": {
     "end_time": "2023-08-09T16:03:36.467419Z",
     "start_time": "2023-08-09T16:03:34.829627Z"
    }
   }
  },
  {
   "cell_type": "code",
   "execution_count": 13,
   "outputs": [
    {
     "data": {
      "text/plain": "Map:   0%|          | 0/1051 [00:00<?, ? examples/s]",
      "application/vnd.jupyter.widget-view+json": {
       "version_major": 2,
       "version_minor": 0,
       "model_id": "f5d2faff3eb84616a8afe1d23219e84f"
      }
     },
     "metadata": {},
     "output_type": "display_data"
    },
    {
     "data": {
      "text/plain": "torch.Size([1051, 768])"
     },
     "execution_count": 13,
     "metadata": {},
     "output_type": "execute_result"
    }
   ],
   "source": [
    "def extract_features(batch):\n",
    "    # Each batch is a dictionary with keys corresponding to the feature names. We only need the input ids and attention masks\n",
    "    inputs = {k:v.to(device) for k, v in batch.items() if k in tokenizer.model_input_names}\n",
    "\n",
    "    # Tell torch not to build the computation graph during inference with `torch.no_grad()`\n",
    "    with torch.no_grad():\n",
    "        last_hidden_state = model(**inputs).last_hidden_state # Extract last hidden states\n",
    "\n",
    "    # Return vector for [CLS] token\n",
    "    return {\"hidden_state\": last_hidden_state[:,0].cpu().numpy()}\n",
    "\n",
    "vaccine = vaccine.map(extract_features, batched=True, batch_size=8)\n",
    "vaccine['hidden_state'].shape"
   ],
   "metadata": {
    "collapsed": false,
    "ExecuteTime": {
     "end_time": "2023-08-09T16:04:07.148136Z",
     "start_time": "2023-08-09T16:03:36.471875Z"
    }
   }
  },
  {
   "cell_type": "markdown",
   "source": [
    "# Predicting vaccine decisions with features\n",
    "To predict the decisions using the extracted features and evaluate prediction performance we will make use of ```sklearn``` (scikit-learn), a general machine learning library. Since we are dealing with high-dimensinoal embeddings, ordinary least squares regression is not suitable. Instead, we will use a regularized (linear) regression model (```RidgeCV```). We evaluate model performance on a holdout test set using the coefficient of determination ($R^2$)."
   ],
   "metadata": {
    "collapsed": false
   }
  },
  {
   "cell_type": "code",
   "execution_count": 14,
   "outputs": [],
   "source": [
    "from sklearn.linear_model import RidgeCV\n",
    "from sklearn.model_selection import train_test_split"
   ],
   "metadata": {
    "collapsed": false,
    "ExecuteTime": {
     "end_time": "2023-08-09T16:04:07.696028Z",
     "start_time": "2023-08-09T16:04:07.147431Z"
    }
   }
  },
  {
   "cell_type": "code",
   "execution_count": 15,
   "outputs": [
    {
     "data": {
      "text/plain": "           0         1         2         3         4         5         6    \\\n0     0.086551 -0.138291 -0.136351 -0.044146 -0.006536 -0.196219  0.129933   \n1    -0.086077 -0.046284  0.170872 -0.090205 -0.148626 -0.077882  0.115379   \n2     0.040985 -0.031094  0.085166 -0.015342 -0.150943 -0.062235  0.269550   \n3    -0.088134 -0.037886  0.070339  0.060876 -0.184012  0.031210  0.169997   \n4     0.069829  0.019595 -0.001682 -0.246711 -0.061300 -0.168547  0.322209   \n...        ...       ...       ...       ...       ...       ...       ...   \n1046  0.060096 -0.027563 -0.197975 -0.167290 -0.256647 -0.193959  0.278221   \n1047 -0.157278 -0.037632 -0.135468 -0.104194 -0.073145 -0.114484  0.210148   \n1048 -0.264745 -0.118108 -0.243033 -0.065164 -0.172901 -0.085691  0.123498   \n1049  0.214027  0.031197 -0.053656 -0.248237 -0.046856 -0.366515  0.371055   \n1050  0.311766 -0.014036 -0.040445 -0.234838 -0.193043 -0.164190  0.229046   \n\n           7         8         9    ...       758       759       760  \\\n0     0.005525  0.046519 -0.363784  ... -0.094813 -0.216771 -0.098917   \n1     0.122023  0.147362 -0.176775  ...  0.094826 -0.011131  0.072211   \n2    -0.149736  0.259255 -0.130736  ... -0.165882 -0.097996 -0.081691   \n3     0.052630  0.159975 -0.296517  ... -0.023511 -0.199103  0.055980   \n4     0.217674  0.237314 -0.358912  ...  0.042846  0.005196  0.082999   \n...        ...       ...       ...  ...       ...       ...       ...   \n1046 -0.008111  0.037555 -0.141178  ... -0.165374 -0.132563 -0.002246   \n1047  0.364075 -0.133996 -0.354392  ...  0.080500 -0.176303  0.098889   \n1048  0.065335 -0.042342 -0.166539  ... -0.049490  0.014468 -0.110201   \n1049  0.387127 -0.086699 -0.266235  ... -0.101303 -0.187162  0.108514   \n1050  0.279721  0.126862 -0.455163  ... -0.002532 -0.214854  0.003515   \n\n           761       762       763       764       765       766       767  \n0     0.025280  0.003007  0.224140 -0.215962 -0.277577  0.211385  0.269926  \n1    -0.027861 -0.058841  0.019084 -0.260078 -0.105455  0.249027  0.535908  \n2    -0.126770  0.114904  0.140170 -0.236507 -0.087407  0.400360  0.436200  \n3    -0.137853  0.082254  0.127104 -0.297239 -0.143943  0.213958  0.313107  \n4    -0.093391  0.086103 -0.116669 -0.277758 -0.230386  0.221281  0.411202  \n...        ...       ...       ...       ...       ...       ...       ...  \n1046  0.049726  0.072532 -0.039805 -0.274175  0.038117  0.321610  0.417477  \n1047 -0.213833  0.114860  0.073110 -0.062321 -0.282838  0.039596  0.202290  \n1048 -0.100587  0.256933 -0.017435 -0.034038 -0.193906  0.303171  0.435974  \n1049 -0.177368  0.260718  0.150828 -0.205036 -0.006340  0.436779  0.446601  \n1050 -0.244796  0.235992  0.053680 -0.070399  0.062612  0.513922  0.477407  \n\n[1051 rows x 768 columns]",
      "text/html": "<div>\n<style scoped>\n    .dataframe tbody tr th:only-of-type {\n        vertical-align: middle;\n    }\n\n    .dataframe tbody tr th {\n        vertical-align: top;\n    }\n\n    .dataframe thead th {\n        text-align: right;\n    }\n</style>\n<table border=\"1\" class=\"dataframe\">\n  <thead>\n    <tr style=\"text-align: right;\">\n      <th></th>\n      <th>0</th>\n      <th>1</th>\n      <th>2</th>\n      <th>3</th>\n      <th>4</th>\n      <th>5</th>\n      <th>6</th>\n      <th>7</th>\n      <th>8</th>\n      <th>9</th>\n      <th>...</th>\n      <th>758</th>\n      <th>759</th>\n      <th>760</th>\n      <th>761</th>\n      <th>762</th>\n      <th>763</th>\n      <th>764</th>\n      <th>765</th>\n      <th>766</th>\n      <th>767</th>\n    </tr>\n  </thead>\n  <tbody>\n    <tr>\n      <th>0</th>\n      <td>0.086551</td>\n      <td>-0.138291</td>\n      <td>-0.136351</td>\n      <td>-0.044146</td>\n      <td>-0.006536</td>\n      <td>-0.196219</td>\n      <td>0.129933</td>\n      <td>0.005525</td>\n      <td>0.046519</td>\n      <td>-0.363784</td>\n      <td>...</td>\n      <td>-0.094813</td>\n      <td>-0.216771</td>\n      <td>-0.098917</td>\n      <td>0.025280</td>\n      <td>0.003007</td>\n      <td>0.224140</td>\n      <td>-0.215962</td>\n      <td>-0.277577</td>\n      <td>0.211385</td>\n      <td>0.269926</td>\n    </tr>\n    <tr>\n      <th>1</th>\n      <td>-0.086077</td>\n      <td>-0.046284</td>\n      <td>0.170872</td>\n      <td>-0.090205</td>\n      <td>-0.148626</td>\n      <td>-0.077882</td>\n      <td>0.115379</td>\n      <td>0.122023</td>\n      <td>0.147362</td>\n      <td>-0.176775</td>\n      <td>...</td>\n      <td>0.094826</td>\n      <td>-0.011131</td>\n      <td>0.072211</td>\n      <td>-0.027861</td>\n      <td>-0.058841</td>\n      <td>0.019084</td>\n      <td>-0.260078</td>\n      <td>-0.105455</td>\n      <td>0.249027</td>\n      <td>0.535908</td>\n    </tr>\n    <tr>\n      <th>2</th>\n      <td>0.040985</td>\n      <td>-0.031094</td>\n      <td>0.085166</td>\n      <td>-0.015342</td>\n      <td>-0.150943</td>\n      <td>-0.062235</td>\n      <td>0.269550</td>\n      <td>-0.149736</td>\n      <td>0.259255</td>\n      <td>-0.130736</td>\n      <td>...</td>\n      <td>-0.165882</td>\n      <td>-0.097996</td>\n      <td>-0.081691</td>\n      <td>-0.126770</td>\n      <td>0.114904</td>\n      <td>0.140170</td>\n      <td>-0.236507</td>\n      <td>-0.087407</td>\n      <td>0.400360</td>\n      <td>0.436200</td>\n    </tr>\n    <tr>\n      <th>3</th>\n      <td>-0.088134</td>\n      <td>-0.037886</td>\n      <td>0.070339</td>\n      <td>0.060876</td>\n      <td>-0.184012</td>\n      <td>0.031210</td>\n      <td>0.169997</td>\n      <td>0.052630</td>\n      <td>0.159975</td>\n      <td>-0.296517</td>\n      <td>...</td>\n      <td>-0.023511</td>\n      <td>-0.199103</td>\n      <td>0.055980</td>\n      <td>-0.137853</td>\n      <td>0.082254</td>\n      <td>0.127104</td>\n      <td>-0.297239</td>\n      <td>-0.143943</td>\n      <td>0.213958</td>\n      <td>0.313107</td>\n    </tr>\n    <tr>\n      <th>4</th>\n      <td>0.069829</td>\n      <td>0.019595</td>\n      <td>-0.001682</td>\n      <td>-0.246711</td>\n      <td>-0.061300</td>\n      <td>-0.168547</td>\n      <td>0.322209</td>\n      <td>0.217674</td>\n      <td>0.237314</td>\n      <td>-0.358912</td>\n      <td>...</td>\n      <td>0.042846</td>\n      <td>0.005196</td>\n      <td>0.082999</td>\n      <td>-0.093391</td>\n      <td>0.086103</td>\n      <td>-0.116669</td>\n      <td>-0.277758</td>\n      <td>-0.230386</td>\n      <td>0.221281</td>\n      <td>0.411202</td>\n    </tr>\n    <tr>\n      <th>...</th>\n      <td>...</td>\n      <td>...</td>\n      <td>...</td>\n      <td>...</td>\n      <td>...</td>\n      <td>...</td>\n      <td>...</td>\n      <td>...</td>\n      <td>...</td>\n      <td>...</td>\n      <td>...</td>\n      <td>...</td>\n      <td>...</td>\n      <td>...</td>\n      <td>...</td>\n      <td>...</td>\n      <td>...</td>\n      <td>...</td>\n      <td>...</td>\n      <td>...</td>\n      <td>...</td>\n    </tr>\n    <tr>\n      <th>1046</th>\n      <td>0.060096</td>\n      <td>-0.027563</td>\n      <td>-0.197975</td>\n      <td>-0.167290</td>\n      <td>-0.256647</td>\n      <td>-0.193959</td>\n      <td>0.278221</td>\n      <td>-0.008111</td>\n      <td>0.037555</td>\n      <td>-0.141178</td>\n      <td>...</td>\n      <td>-0.165374</td>\n      <td>-0.132563</td>\n      <td>-0.002246</td>\n      <td>0.049726</td>\n      <td>0.072532</td>\n      <td>-0.039805</td>\n      <td>-0.274175</td>\n      <td>0.038117</td>\n      <td>0.321610</td>\n      <td>0.417477</td>\n    </tr>\n    <tr>\n      <th>1047</th>\n      <td>-0.157278</td>\n      <td>-0.037632</td>\n      <td>-0.135468</td>\n      <td>-0.104194</td>\n      <td>-0.073145</td>\n      <td>-0.114484</td>\n      <td>0.210148</td>\n      <td>0.364075</td>\n      <td>-0.133996</td>\n      <td>-0.354392</td>\n      <td>...</td>\n      <td>0.080500</td>\n      <td>-0.176303</td>\n      <td>0.098889</td>\n      <td>-0.213833</td>\n      <td>0.114860</td>\n      <td>0.073110</td>\n      <td>-0.062321</td>\n      <td>-0.282838</td>\n      <td>0.039596</td>\n      <td>0.202290</td>\n    </tr>\n    <tr>\n      <th>1048</th>\n      <td>-0.264745</td>\n      <td>-0.118108</td>\n      <td>-0.243033</td>\n      <td>-0.065164</td>\n      <td>-0.172901</td>\n      <td>-0.085691</td>\n      <td>0.123498</td>\n      <td>0.065335</td>\n      <td>-0.042342</td>\n      <td>-0.166539</td>\n      <td>...</td>\n      <td>-0.049490</td>\n      <td>0.014468</td>\n      <td>-0.110201</td>\n      <td>-0.100587</td>\n      <td>0.256933</td>\n      <td>-0.017435</td>\n      <td>-0.034038</td>\n      <td>-0.193906</td>\n      <td>0.303171</td>\n      <td>0.435974</td>\n    </tr>\n    <tr>\n      <th>1049</th>\n      <td>0.214027</td>\n      <td>0.031197</td>\n      <td>-0.053656</td>\n      <td>-0.248237</td>\n      <td>-0.046856</td>\n      <td>-0.366515</td>\n      <td>0.371055</td>\n      <td>0.387127</td>\n      <td>-0.086699</td>\n      <td>-0.266235</td>\n      <td>...</td>\n      <td>-0.101303</td>\n      <td>-0.187162</td>\n      <td>0.108514</td>\n      <td>-0.177368</td>\n      <td>0.260718</td>\n      <td>0.150828</td>\n      <td>-0.205036</td>\n      <td>-0.006340</td>\n      <td>0.436779</td>\n      <td>0.446601</td>\n    </tr>\n    <tr>\n      <th>1050</th>\n      <td>0.311766</td>\n      <td>-0.014036</td>\n      <td>-0.040445</td>\n      <td>-0.234838</td>\n      <td>-0.193043</td>\n      <td>-0.164190</td>\n      <td>0.229046</td>\n      <td>0.279721</td>\n      <td>0.126862</td>\n      <td>-0.455163</td>\n      <td>...</td>\n      <td>-0.002532</td>\n      <td>-0.214854</td>\n      <td>0.003515</td>\n      <td>-0.244796</td>\n      <td>0.235992</td>\n      <td>0.053680</td>\n      <td>-0.070399</td>\n      <td>0.062612</td>\n      <td>0.513922</td>\n      <td>0.477407</td>\n    </tr>\n  </tbody>\n</table>\n<p>1051 rows × 768 columns</p>\n</div>"
     },
     "execution_count": 15,
     "metadata": {},
     "output_type": "execute_result"
    }
   ],
   "source": [
    "# Converting features to a pandas dataframe for compatibility with sklearn\n",
    "embeds = pd.DataFrame(vaccine['hidden_state'])\n",
    "embeds"
   ],
   "metadata": {
    "collapsed": false,
    "ExecuteTime": {
     "end_time": "2023-08-09T16:04:07.711424Z",
     "start_time": "2023-08-09T16:04:07.696797Z"
    }
   }
  },
  {
   "cell_type": "code",
   "execution_count": 16,
   "outputs": [
    {
     "data": {
      "text/plain": "RidgeCV(alphas=array([ 0.1,  1. , 10. ]))"
     },
     "execution_count": 16,
     "metadata": {},
     "output_type": "execute_result"
    }
   ],
   "source": [
    "# Instantiating the RidgeCV model\n",
    "regr = RidgeCV()\n",
    "regr"
   ],
   "metadata": {
    "collapsed": false,
    "ExecuteTime": {
     "end_time": "2023-08-09T16:04:07.716071Z",
     "start_time": "2023-08-09T16:04:07.712595Z"
    }
   }
  },
  {
   "cell_type": "code",
   "execution_count": 17,
   "outputs": [
    {
     "data": {
      "text/plain": "'Train size: 788, test size: 263'"
     },
     "execution_count": 17,
     "metadata": {},
     "output_type": "execute_result"
    }
   ],
   "source": [
    "# Splitting the data into train and test sets\n",
    "X_train, X_test, y_train, y_test = train_test_split(embeds, vaccine['labels'], random_state=42)\n",
    "f'Train size: {len(X_train)}, test size: {len(X_test)}'"
   ],
   "metadata": {
    "collapsed": false,
    "ExecuteTime": {
     "end_time": "2023-08-09T16:04:07.764444Z",
     "start_time": "2023-08-09T16:04:07.717457Z"
    }
   }
  },
  {
   "cell_type": "code",
   "execution_count": 18,
   "outputs": [
    {
     "data": {
      "text/plain": "'Test R2 = 0.13'"
     },
     "execution_count": 18,
     "metadata": {},
     "output_type": "execute_result"
    }
   ],
   "source": [
    "# Fitting the model and evaluating performance\n",
    "regr.fit(X_train, y_train)\n",
    "f'Test R2 = {regr.score(X_test, y_test).round(2)}'"
   ],
   "metadata": {
    "collapsed": false,
    "ExecuteTime": {
     "end_time": "2023-08-09T16:04:07.949820Z",
     "start_time": "2023-08-09T16:04:07.727748Z"
    }
   }
  },
  {
   "cell_type": "markdown",
   "source": [
    "*Exercise*: Feel free to try out different regression models (e.g. LassoCV): https://scikit-learn.org/stable/supervised_learning.html"
   ],
   "metadata": {
    "collapsed": false
   }
  },
  {
   "cell_type": "markdown",
   "source": [
    "# Pedicting vaccine decisions the LM fine-tuning\n",
    "We here make use of three modules from the transformers library:\n",
    "1. ```AutoModelForSequenceClassification```: Loads a pretrained model ready for fine-tuning it on sequence classification/regression labels.\n",
    "2. ```TrainingArguments```: Specify training arguments such as the number of epochs, batch size, learning rate, etc.\n",
    "3. ```Trainer```: Allows us to train a model using the training arguments and a training dataset.\n",
    "\n",
    "We also employ the ```evaluate``` library to compute the coefficient of determination ($R^2$) on the test set."
   ],
   "metadata": {
    "collapsed": false
   }
  },
  {
   "cell_type": "code",
   "execution_count": 48,
   "outputs": [],
   "source": [
    "from transformers import AutoModelForSequenceClassification, TrainingArguments, Trainer\n",
    "import evaluate"
   ],
   "metadata": {
    "collapsed": false,
    "ExecuteTime": {
     "end_time": "2023-08-09T14:17:34.754226Z",
     "start_time": "2023-08-09T14:17:34.748369Z"
    }
   }
  },
  {
   "cell_type": "code",
   "execution_count": 49,
   "outputs": [
    {
     "ename": "AttributeError",
     "evalue": "'DatasetDict' object has no attribute 'train_test_split'",
     "output_type": "error",
     "traceback": [
      "\u001B[0;31m---------------------------------------------------------------------------\u001B[0m",
      "\u001B[0;31mAttributeError\u001B[0m                            Traceback (most recent call last)",
      "Input \u001B[0;32mIn [49]\u001B[0m, in \u001B[0;36m<cell line: 2>\u001B[0;34m()\u001B[0m\n\u001B[1;32m      1\u001B[0m \u001B[38;5;66;03m# Splitting the data into train and test sets\u001B[39;00m\n\u001B[0;32m----> 2\u001B[0m vaccine \u001B[38;5;241m=\u001B[39m \u001B[43mvaccine\u001B[49m\u001B[38;5;241;43m.\u001B[39;49m\u001B[43mtrain_test_split\u001B[49m(test_size\u001B[38;5;241m=\u001B[39m\u001B[38;5;241m0.2\u001B[39m)\n\u001B[1;32m      3\u001B[0m vaccine\n",
      "\u001B[0;31mAttributeError\u001B[0m: 'DatasetDict' object has no attribute 'train_test_split'"
     ]
    }
   ],
   "source": [
    "# Splitting the data into train and test sets\n",
    "vaccine = vaccine.train_test_split(test_size=0.2)\n",
    "vaccine"
   ],
   "metadata": {
    "collapsed": false,
    "ExecuteTime": {
     "end_time": "2023-08-09T14:17:44.677129Z",
     "start_time": "2023-08-09T14:17:44.671207Z"
    }
   }
  },
  {
   "cell_type": "markdown",
   "source": [
    "The main difference here from the model we used for feature extraction is ```distilbert-base-uncased``` now has a classification/regression head attached. You will see a warning that some parts of the model are randomly initialized. This is normal since the head has not yet been trained."
   ],
   "metadata": {
    "collapsed": false
   }
  },
  {
   "cell_type": "code",
   "execution_count": 57,
   "outputs": [
    {
     "name": "stderr",
     "output_type": "stream",
     "text": [
      "Some weights of DistilBertForSequenceClassification were not initialized from the model checkpoint at distilbert-base-uncased and are newly initialized: ['pre_classifier.weight', 'classifier.bias', 'pre_classifier.bias', 'classifier.weight']\n",
      "You should probably TRAIN this model on a down-stream task to be able to use it for predictions and inference.\n"
     ]
    },
    {
     "data": {
      "text/plain": "DistilBertForSequenceClassification(\n  (distilbert): DistilBertModel(\n    (embeddings): Embeddings(\n      (word_embeddings): Embedding(30522, 768, padding_idx=0)\n      (position_embeddings): Embedding(512, 768)\n      (LayerNorm): LayerNorm((768,), eps=1e-12, elementwise_affine=True)\n      (dropout): Dropout(p=0.1, inplace=False)\n    )\n    (transformer): Transformer(\n      (layer): ModuleList(\n        (0-5): 6 x TransformerBlock(\n          (attention): MultiHeadSelfAttention(\n            (dropout): Dropout(p=0.1, inplace=False)\n            (q_lin): Linear(in_features=768, out_features=768, bias=True)\n            (k_lin): Linear(in_features=768, out_features=768, bias=True)\n            (v_lin): Linear(in_features=768, out_features=768, bias=True)\n            (out_lin): Linear(in_features=768, out_features=768, bias=True)\n          )\n          (sa_layer_norm): LayerNorm((768,), eps=1e-12, elementwise_affine=True)\n          (ffn): FFN(\n            (dropout): Dropout(p=0.1, inplace=False)\n            (lin1): Linear(in_features=768, out_features=3072, bias=True)\n            (lin2): Linear(in_features=3072, out_features=768, bias=True)\n            (activation): GELUActivation()\n          )\n          (output_layer_norm): LayerNorm((768,), eps=1e-12, elementwise_affine=True)\n        )\n      )\n    )\n  )\n  (pre_classifier): Linear(in_features=768, out_features=768, bias=True)\n  (classifier): Linear(in_features=768, out_features=1, bias=True)\n  (dropout): Dropout(p=0.2, inplace=False)\n)"
     },
     "execution_count": 57,
     "metadata": {},
     "output_type": "execute_result"
    }
   ],
   "source": [
    "# Loading distilbert-base-uncased and moving it to the GPU if available\n",
    "model = (AutoModelForSequenceClassification\n",
    "         .from_pretrained(model_ckpt, num_labels=1) # num_labels=1 for regression\n",
    "         .to(device))\n",
    "\n",
    "model"
   ],
   "metadata": {
    "collapsed": false,
    "ExecuteTime": {
     "end_time": "2023-08-09T14:34:31.981293Z",
     "start_time": "2023-08-09T14:34:30.368723Z"
    }
   }
  },
  {
   "cell_type": "code",
   "execution_count": 61,
   "outputs": [
    {
     "ename": "TypeError",
     "evalue": "__init__() missing 1 required positional argument: 'output_dir'",
     "output_type": "error",
     "traceback": [
      "\u001B[0;31m---------------------------------------------------------------------------\u001B[0m",
      "\u001B[0;31mTypeError\u001B[0m                                 Traceback (most recent call last)",
      "Input \u001B[0;32mIn [61]\u001B[0m, in \u001B[0;36m<cell line: 3>\u001B[0;34m()\u001B[0m\n\u001B[1;32m      1\u001B[0m \u001B[38;5;66;03m# Training the model\u001B[39;00m\n\u001B[1;32m      2\u001B[0m batch_size \u001B[38;5;241m=\u001B[39m \u001B[38;5;241m8\u001B[39m\n\u001B[0;32m----> 3\u001B[0m training_args \u001B[38;5;241m=\u001B[39m \u001B[43mTrainingArguments\u001B[49m\u001B[43m(\u001B[49m\n\u001B[1;32m      4\u001B[0m \u001B[43m    \u001B[49m\u001B[43mper_device_train_batch_size\u001B[49m\u001B[38;5;241;43m=\u001B[39;49m\u001B[43mbatch_size\u001B[49m\u001B[43m,\u001B[49m\n\u001B[1;32m      5\u001B[0m \u001B[43m    \u001B[49m\u001B[43mper_device_eval_batch_size\u001B[49m\u001B[38;5;241;43m=\u001B[39;49m\u001B[43mbatch_size\u001B[49m\u001B[43m,\u001B[49m\n\u001B[1;32m      6\u001B[0m \u001B[43m    \u001B[49m\u001B[43mlogging_steps\u001B[49m\u001B[38;5;241;43m=\u001B[39;49m\u001B[38;5;241;43m1\u001B[39;49m\u001B[38;5;241;43m/\u001B[39;49m\u001B[43mbatch_size\u001B[49m\u001B[43m,\u001B[49m\n\u001B[1;32m      7\u001B[0m \u001B[43m    \u001B[49m\u001B[43mevaluation_strategy\u001B[49m\u001B[38;5;241;43m=\u001B[39;49m\u001B[38;5;124;43m\"\u001B[39;49m\u001B[38;5;124;43mepoch\u001B[39;49m\u001B[38;5;124;43m\"\u001B[39;49m\u001B[43m,\u001B[49m\n\u001B[1;32m      8\u001B[0m \u001B[43m    \u001B[49m\u001B[43mnum_train_epochs\u001B[49m\u001B[38;5;241;43m=\u001B[39;49m\u001B[38;5;241;43m7\u001B[39;49m\u001B[43m,\u001B[49m\n\u001B[1;32m      9\u001B[0m \u001B[43m)\u001B[49m\n\u001B[1;32m     11\u001B[0m \u001B[38;5;28;01mdef\u001B[39;00m \u001B[38;5;21mcompute_metrics\u001B[39m(eval_preds):\n\u001B[1;32m     12\u001B[0m     metric \u001B[38;5;241m=\u001B[39m evaluate\u001B[38;5;241m.\u001B[39mload(\u001B[38;5;124m\"\u001B[39m\u001B[38;5;124mr_squared\u001B[39m\u001B[38;5;124m\"\u001B[39m)\n",
      "\u001B[0;31mTypeError\u001B[0m: __init__() missing 1 required positional argument: 'output_dir'"
     ]
    }
   ],
   "source": [
    "# Training the model\n",
    "model_name = f\"{model_ckpt}-finetuned-vaccine\"\n",
    "batch_size = 8\n",
    "training_args = TrainingArguments(\n",
    "    output_dir=model_name,  # output directory to save training checkpoints\n",
    "    per_device_train_batch_size=batch_size,\n",
    "    per_device_eval_batch_size=batch_size,\n",
    "    logging_steps=1/batch_size, # log training metrics at every epoch\n",
    "    evaluation_strategy=\"epoch\", # evaluate at the end of every epoch\n",
    "    num_train_epochs=7,\n",
    ")\n",
    "\n",
    "def compute_metrics(eval_preds):\n",
    "    metric = evaluate.load(\"r_squared\")\n",
    "    preds, labels = eval_preds\n",
    "    return {\"r_squared\": metric.compute(predictions=preds, references=labels)}\n",
    "\n",
    "\n",
    "trainer = Trainer(\n",
    "    model=model,\n",
    "    args=training_args,\n",
    "    train_dataset=vaccine['train'],\n",
    "    eval_dataset=vaccine['test'],\n",
    "    compute_metrics=compute_metrics,\n",
    ")\n",
    "\n",
    "trainer.train()"
   ],
   "metadata": {
    "collapsed": false,
    "ExecuteTime": {
     "end_time": "2023-08-09T14:58:24.875862Z",
     "start_time": "2023-08-09T14:58:24.873050Z"
    }
   }
  }
 ],
 "metadata": {
  "kernelspec": {
   "display_name": "Python 3",
   "language": "python",
   "name": "python3"
  },
  "language_info": {
   "codemirror_mode": {
    "name": "ipython",
    "version": 2
   },
   "file_extension": ".py",
   "mimetype": "text/x-python",
   "name": "python",
   "nbconvert_exporter": "python",
   "pygments_lexer": "ipython2",
   "version": "2.7.6"
  }
 },
 "nbformat": 4,
 "nbformat_minor": 0
}
