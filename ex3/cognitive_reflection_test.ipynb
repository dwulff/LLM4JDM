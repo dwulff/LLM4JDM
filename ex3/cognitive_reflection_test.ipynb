{
 "cells": [
  {
   "cell_type": "code",
   "execution_count": 1,
   "outputs": [],
   "source": [
    "from transformers import pipeline"
   ],
   "metadata": {
    "collapsed": false,
    "ExecuteTime": {
     "end_time": "2023-08-10T09:41:54.118683Z",
     "start_time": "2023-08-10T09:41:50.789170Z"
    }
   }
  },
  {
   "cell_type": "code",
   "execution_count": 6,
   "outputs": [
    {
     "name": "stderr",
     "output_type": "stream",
     "text": [
      "No model was supplied, defaulted to gpt2 and revision 6c0e608 (https://huggingface.co/gpt2).\n",
      "Using a pipeline without specifying a model name and revision in production is not recommended.\n",
      "Setting `pad_token_id` to `eos_token_id`:50256 for open-end generation.\n",
      "Setting `pad_token_id` to `eos_token_id`:50256 for open-end generation.\n",
      "Setting `pad_token_id` to `eos_token_id`:50256 for open-end generation.\n"
     ]
    },
    {
     "data": {
      "text/plain": "[\"A bat and a ball cost $1.10 in total. The bat costs $1.00 more than the ball. How much does the ball cost? A bat can cost $1.80 in total and $2 dollars each in addition to its original $1.00 value. How does the ball cost? The ball is designed to be a perfect match with other items. Our new, higher-priced ball is a better match, because it is an equal amount of a ball and not like a ball with half the cost. It offers all the tools that most clubs do (and more). What you get is a better piece.\\n\\nThe club can also have more advantages such as being able to be put together and used during the matches in which it is played. For example: There's the added advantage of the club being able to be thrown in your pocket and to be the preferred side of the ball when it is used. For those players, this makes them better players because\",\n 'If it takes 5 machines 5 minutes to make 5 widgets, how long would it take 100 machines to make 100 widgets? When you give these 5 minutes of time to make widgets in two minutes, it can take up to 10 minutes of time to process the same amount of widgets.\\n\\nBut there are more applications and processes that are not so efficient. To give an exact example, we should think of a program that only sees widgets that require a specific CPU in order to run the program properly.\\n\\nHow does a CPU cost to print this?\\n\\nThe question comes to mind when considering cost per CPU. The cost per widget is the total time required to print a widget, and it is how long we would need to wait. Here are four ways that this is true:\\n\\nThe last time the CPU was used is when there was a high probability that a widget will be printed. A higher probability means less CPU power required to produce the particular widget. The last time we have',\n \"In a lake, there is a patch of lily pads. Every day, the patch doubles in size. If it takes 48 days for the patch to cover the entire lake, how long would it take for the patch to cover half of the lake?\\n\\nIt's impossible to estimate the size and density of the lake and water in this part of the world. But we can at least see that we'd be underestimating. Lake Baig is on track to be almost 3 billion years old, as are Lake Baig Lake. That means we're at 2.1 cubic meters per cubic meter of water in the lake. This is a relatively small volume of water (it wouldn't appear to change much at this rate by the end of the century) and it should be much less in the future as the world takes in less water. And if it's not 1,000 years until Lake Baig has expanded to the point at which it would overflow and become a big lake, and\"]"
     },
     "execution_count": 6,
     "metadata": {},
     "output_type": "execute_result"
    }
   ],
   "source": [
    "generator = pipeline(\"text-generation\")\n",
    "prompts = [\n",
    "    'A bat and a ball cost $1.10 in total. The bat costs $1.00 more than the ball. How much does the ball cost?',\n",
    "    'If it takes 5 machines 5 minutes to make 5 widgets, how long would it take 100 machines to make 100 widgets?',\n",
    "    'In a lake, there is a patch of lily pads. Every day, the patch doubles in size. If it takes 48 days for the patch to cover the entire lake, how long would it take for the patch to cover half of the lake?'\n",
    "]\n",
    "outputs = generator(prompts, max_length=200)\n",
    "[output[0]['generated_text'] for output in outputs]"
   ],
   "metadata": {
    "collapsed": false,
    "ExecuteTime": {
     "end_time": "2023-08-10T09:50:15.186978Z",
     "start_time": "2023-08-10T09:49:59.563514Z"
    }
   }
  },
  {
   "cell_type": "code",
   "execution_count": 11,
   "outputs": [
    {
     "name": "stdout",
     "output_type": "stream",
     "text": [
      "-----------------------------\n",
      "\u001B[1mA bat and a ball cost $1.10 in total. The bat costs $1.00 more than the ball. How much does the ball cost?\u001B[0m\n",
      "-----------------------------\n",
      "A bat and a ball cost $1.10 in total. The bat costs $1.00 more than the ball. How much does the ball cost? A bat can cost $1.80 in total and $2 dollars each in addition to its original $1.00 value. How does the ball cost? The ball is designed to be a perfect match with other items. Our new, higher-priced ball is a better match, because it is an equal amount of a ball and not like a ball with half the cost. It offers all the tools that most clubs do (and more). What you get is a better piece.\n",
      "\n",
      "The club can also have more advantages such as being able to be put together and used during the matches in which it is played. For example: There's the added advantage of the club being able to be thrown in your pocket and to be the preferred side of the ball when it is used. For those players, this makes them better players because\n",
      "-----------------------------\n",
      "\u001B[1mIf it takes 5 machines 5 minutes to make 5 widgets, how long would it take 100 machines to make 100 widgets?\u001B[0m\n",
      "-----------------------------\n",
      "If it takes 5 machines 5 minutes to make 5 widgets, how long would it take 100 machines to make 100 widgets? When you give these 5 minutes of time to make widgets in two minutes, it can take up to 10 minutes of time to process the same amount of widgets.\n",
      "\n",
      "But there are more applications and processes that are not so efficient. To give an exact example, we should think of a program that only sees widgets that require a specific CPU in order to run the program properly.\n",
      "\n",
      "How does a CPU cost to print this?\n",
      "\n",
      "The question comes to mind when considering cost per CPU. The cost per widget is the total time required to print a widget, and it is how long we would need to wait. Here are four ways that this is true:\n",
      "\n",
      "The last time the CPU was used is when there was a high probability that a widget will be printed. A higher probability means less CPU power required to produce the particular widget. The last time we have\n",
      "-----------------------------\n",
      "\u001B[1mIn a lake, there is a patch of lily pads. Every day, the patch doubles in size. If it takes 48 days for the patch to cover the entire lake, how long would it take for the patch to cover half of the lake?\u001B[0m\n",
      "-----------------------------\n",
      "In a lake, there is a patch of lily pads. Every day, the patch doubles in size. If it takes 48 days for the patch to cover the entire lake, how long would it take for the patch to cover half of the lake?\n",
      "\n",
      "It's impossible to estimate the size and density of the lake and water in this part of the world. But we can at least see that we'd be underestimating. Lake Baig is on track to be almost 3 billion years old, as are Lake Baig Lake. That means we're at 2.1 cubic meters per cubic meter of water in the lake. This is a relatively small volume of water (it wouldn't appear to change much at this rate by the end of the century) and it should be much less in the future as the world takes in less water. And if it's not 1,000 years until Lake Baig has expanded to the point at which it would overflow and become a big lake, and\n"
     ]
    }
   ],
   "source": [
    "for prompt, output in zip(prompts, outputs):\n",
    "    print('-----------------------------')\n",
    "    print('\\033[1m' + prompt + '\\033[0m')\n",
    "    print('-----------------------------')\n",
    "    print(output[0]['generated_text'])"
   ],
   "metadata": {
    "collapsed": false,
    "ExecuteTime": {
     "end_time": "2023-08-10T09:54:47.471917Z",
     "start_time": "2023-08-10T09:54:47.468559Z"
    }
   }
  },
  {
   "cell_type": "code",
   "execution_count": null,
   "outputs": [],
   "source": [],
   "metadata": {
    "collapsed": false
   }
  }
 ],
 "metadata": {
  "kernelspec": {
   "display_name": "Python 3",
   "language": "python",
   "name": "python3"
  },
  "language_info": {
   "codemirror_mode": {
    "name": "ipython",
    "version": 2
   },
   "file_extension": ".py",
   "mimetype": "text/x-python",
   "name": "python",
   "nbconvert_exporter": "python",
   "pygments_lexer": "ipython2",
   "version": "2.7.6"
  }
 },
 "nbformat": 4,
 "nbformat_minor": 0
}
