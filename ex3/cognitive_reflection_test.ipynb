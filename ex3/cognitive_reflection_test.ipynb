{
 "cells": [
  {
   "cell_type": "code",
   "execution_count": 1,
   "outputs": [],
   "source": [
    "from transformers import pipeline"
   ],
   "metadata": {
    "collapsed": false,
    "ExecuteTime": {
     "end_time": "2023-08-10T09:41:54.118683Z",
     "start_time": "2023-08-10T09:41:50.789170Z"
    }
   }
  },
  {
   "cell_type": "code",
   "execution_count": 13,
   "outputs": [
    {
     "name": "stderr",
     "output_type": "stream",
     "text": [
      "Setting `pad_token_id` to `eos_token_id`:50256 for open-end generation.\n",
      "Setting `pad_token_id` to `eos_token_id`:50256 for open-end generation.\n",
      "Setting `pad_token_id` to `eos_token_id`:50256 for open-end generation.\n"
     ]
    },
    {
     "name": "stdout",
     "output_type": "stream",
     "text": [
      "-----------------------------\n",
      "\u001B[1mA bat and a ball cost $1.10 in total. The bat costs $1.00 more than the ball. How much does the ball cost?\u001B[0m\n",
      "-----------------------------\n",
      "A bat and a ball cost $1.10 in total. The bat costs $1.00 more than the ball. How much does the ball cost? Well it's $3.50. So you would need about 45, 45, 60 $25 to charge for the bats.\n",
      "\n",
      "In fact, I asked myself a few questions before I figured out what I was getting myself into.\n",
      "\n",
      "Why, I don't know that, or I don't know the answer to the question\n",
      "-----------------------------\n",
      "\u001B[1mIf it takes 5 machines 5 minutes to make 5 widgets, how long would it take 100 machines to make 100 widgets?\u001B[0m\n",
      "-----------------------------\n",
      "If it takes 5 machines 5 minutes to make 5 widgets, how long would it take 100 machines to make 100 widgets? What would it take to make all 10 machines and 2/3 of the widgets? It would take 9 to make the widgets (in other words, 8 to make 10 widgets)! This would be faster than one computer running the same executable and it would be easier and simpler even for the smallest project. However, that's a long way off! The idea here is to get something\n",
      "-----------------------------\n",
      "\u001B[1mIn a lake, there is a patch of lily pads. Every day, the patch doubles in size. If it takes 48 days for the patch to cover the entire lake, how long would it take for the patch to cover half of the lake?\u001B[0m\n",
      "-----------------------------\n",
      "In a lake, there is a patch of lily pads. Every day, the patch doubles in size. If it takes 48 days for the patch to cover the entire lake, how long would it take for the patch to cover half of the lake? Imagine 10 days for the patch to reach the end. In a reservoir, at the shoreline of a glacier, the number of patches is smaller.\n",
      "\n",
      "\n",
      "It could take the entire lake (or entire country) to cover everything from one ice\n"
     ]
    }
   ],
   "source": [
    "generator = pipeline(\"text-generation\", model='gpt2')\n",
    "prompts = [\n",
    "    'A bat and a ball cost $1.10 in total. The bat costs $1.00 more than the ball. How much does the ball cost?',\n",
    "    'If it takes 5 machines 5 minutes to make 5 widgets, how long would it take 100 machines to make 100 widgets?',\n",
    "    'In a lake, there is a patch of lily pads. Every day, the patch doubles in size. If it takes 48 days for the patch to cover the entire lake, how long would it take for the patch to cover half of the lake?'\n",
    "]\n",
    "outputs = generator(prompts, max_length=100)\n",
    "\n",
    "# Printing\n",
    "for prompt, output in zip(prompts, outputs):\n",
    "    print('-----------------------------')\n",
    "    print('\\033[1m' + prompt + '\\033[0m')\n",
    "    print('-----------------------------')\n",
    "    print(output[0]['generated_text'].replace(prompt, '').strip())"
   ],
   "metadata": {
    "collapsed": false,
    "ExecuteTime": {
     "end_time": "2023-08-10T10:02:28.793776Z",
     "start_time": "2023-08-10T10:02:21.115488Z"
    }
   }
  },
  {
   "cell_type": "markdown",
   "source": [
    "# Ideas for Exercise:\n",
    "1. Based on your understanding of transformers, why do you think a model such as GPT performs so badly on this test?\n",
    "2. Try editing the prompt to give GPT-2 clues. Does it help?\n",
    "3. Have a look on https://huggingface.co/models?pipeline_tag=text-generation&sort=trending to see if you can find a model more suitable for solving maths problems."
   ],
   "metadata": {
    "collapsed": false
   }
  }
 ],
 "metadata": {
  "kernelspec": {
   "display_name": "Python 3",
   "language": "python",
   "name": "python3"
  },
  "language_info": {
   "codemirror_mode": {
    "name": "ipython",
    "version": 2
   },
   "file_extension": ".py",
   "mimetype": "text/x-python",
   "name": "python",
   "nbconvert_exporter": "python",
   "pygments_lexer": "ipython2",
   "version": "2.7.6"
  }
 },
 "nbformat": 4,
 "nbformat_minor": 0
}
